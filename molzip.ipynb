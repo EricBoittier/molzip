{
  "nbformat": 4,
  "nbformat_minor": 0,
  "metadata": {
    "colab": {
      "provenance": [],
      "toc_visible": true,
      "authorship_tag": "ABX9TyPHyKJzm05oepZCK5umZusZ",
      "include_colab_link": true
    },
    "kernelspec": {
      "name": "python3",
      "display_name": "Python 3"
    },
    "language_info": {
      "name": "python"
    }
  },
  "cells": [
    {
      "cell_type": "markdown",
      "metadata": {
        "id": "view-in-github",
        "colab_type": "text"
      },
      "source": [
        "<a href=\"https://colab.research.google.com/github/driesvr/molzip/blob/colab/molzip.ipynb\" target=\"_parent\"><img src=\"https://colab.research.google.com/assets/colab-badge.svg\" alt=\"Open In Colab\"/></a>"
      ]
    },
    {
      "cell_type": "code",
      "execution_count": null,
      "metadata": {
        "colab": {
          "base_uri": "https://localhost:8080/"
        },
        "id": "V1NS6_scemgD",
        "outputId": "ce00f5a0-7cc0-4e6c-f54c-c632531e09cb"
      },
      "outputs": [
        {
          "output_type": "stream",
          "name": "stdout",
          "text": [
            "  % Total    % Received % Xferd  Average Speed   Time    Time     Time  Current\n",
            "                                 Dload  Upload   Total   Spent    Left  Speed\n",
            "\r  0     0    0     0    0     0      0      0 --:--:-- --:--:-- --:--:--     0\r100  3457  100  3457    0     0  22448      0 --:--:-- --:--:-- --:--:-- 22448\n"
          ]
        },
        {
          "output_type": "stream",
          "name": "stderr",
          "text": [
            "add /root/miniconda/lib/python3.10/site-packages to PYTHONPATH\n",
            "INFO:conda_installer:add /root/miniconda/lib/python3.10/site-packages to PYTHONPATH\n",
            "python version: 3.10.12\n",
            "INFO:conda_installer:python version: 3.10.12\n",
            "fetching installer from https://repo.continuum.io/miniconda/Miniconda3-latest-Linux-x86_64.sh\n",
            "INFO:conda_installer:fetching installer from https://repo.continuum.io/miniconda/Miniconda3-latest-Linux-x86_64.sh\n",
            "done\n",
            "INFO:conda_installer:done\n",
            "installing miniconda to /root/miniconda\n",
            "INFO:conda_installer:installing miniconda to /root/miniconda\n",
            "done\n",
            "INFO:conda_installer:done\n",
            "installing openmm, pdbfixer\n",
            "INFO:conda_installer:installing openmm, pdbfixer\n",
            "added conda-forge to channels\n",
            "INFO:conda_installer:added conda-forge to channels\n",
            "done\n",
            "INFO:conda_installer:done\n",
            "conda packages installation finished!\n",
            "INFO:conda_installer:conda packages installation finished!\n"
          ]
        },
        {
          "output_type": "stream",
          "name": "stdout",
          "text": [
            "# conda environments:\n",
            "#\n",
            "base                     /root/miniconda\n",
            "\n"
          ]
        }
      ],
      "source": [
        "!curl -Lo conda_installer.py https://raw.githubusercontent.com/deepchem/deepchem/master/scripts/colab_install.py\n",
        "import conda_installer\n",
        "conda_installer.install()\n",
        "!/root/miniconda/bin/conda info -e\n",
        "\n",
        "!pip install --pre deepchem\n",
        "import deepchem\n",
        "\n",
        "!git clone https://github.com/daenuprobst/molzip.git\n",
        "!pip install selfies deepsmiles mhfp pytablewriter"
      ]
    },
    {
      "cell_type": "code",
      "source": [
        "!python main.py"
      ],
      "metadata": {
        "colab": {
          "base_uri": "https://localhost:8080/"
        },
        "id": "GV33V4J9iHce",
        "outputId": "f7bc1b70-8ec5-46c0-9f28-b12c80b5a411"
      },
      "execution_count": null,
      "outputs": [
        {
          "output_type": "stream",
          "name": "stdout",
          "text": [
            "No normalization for AvgIpc. Feature removed!\n",
            "2023-07-14 22:36:36.139823: W tensorflow/compiler/tf2tensorrt/utils/py_utils.cc:38] TF-TRT Warning: Could not find TensorRT\n",
            "WARNING:tensorflow:From /usr/local/lib/python3.10/dist-packages/tensorflow/python/util/deprecation.py:576: calling function (from tensorflow.python.eager.polymorphic_function.polymorphic_function) with experimental_relax_shapes is deprecated and will be removed in a future version.\n",
            "Instructions for updating:\n",
            "experimental_relax_shapes is deprecated, use reduce_retracing instead\n",
            "Skipped loading modules with pytorch-geometric dependency, missing a dependency. No module named 'torch_geometric'\n",
            "Skipped loading modules with transformers dependency. No module named 'transformers'\n",
            "cannot import name 'HuggingFaceModel' from 'deepchem.models.torch_models' (/usr/local/lib/python3.10/dist-packages/deepchem/models/torch_models/__init__.py)\n",
            "Skipped loading modules with pytorch-geometric dependency, missing a dependency. cannot import name 'DMPNN' from 'deepchem.models.torch_models' (/usr/local/lib/python3.10/dist-packages/deepchem/models/torch_models/__init__.py)\n",
            "Skipped loading modules with pytorch-lightning dependency, missing a dependency. No module named 'pytorch_lightning'\n",
            "Skipped loading some Jax models, missing a dependency. No module named 'haiku'\n",
            "\n",
            "freesolv (1 tasks)\n",
            "{'dataset': 'freesolv', 'splitter': 'random', 'task': 'regression', 'k': 10, 'augment': 0, 'preprocess': True, 'sub_sample': 0.0, 'is_imbalanced': True, 'n': 4}\n",
            "Valid RMSE: 0.4268342769740968, Valid MAE: 0.30625 , Test RMSE: 0.33968311024337877, Test MAE: 0.2338461538461539\n",
            "\n",
            "freesolv (1 tasks)\n",
            "{'dataset': 'freesolv', 'splitter': 'random', 'task': 'regression', 'k': 10, 'augment': 0, 'preprocess': True, 'sub_sample': 0.0, 'is_imbalanced': True, 'n': 4}\n",
            "Valid RMSE: 0.6920305267833204, Valid MAE: 0.3453125 , Test RMSE: 0.6273264393746381, Test MAE: 0.3323076923076923\n",
            "\n",
            "freesolv (1 tasks)\n",
            "{'dataset': 'freesolv', 'splitter': 'random', 'task': 'regression', 'k': 10, 'augment': 0, 'preprocess': True, 'sub_sample': 0.0, 'is_imbalanced': True, 'n': 4}\n",
            "Valid RMSE: 0.402919036532155, Valid MAE: 0.2796875 , Test RMSE: 0.8999145258557358, Test MAE: 0.4092307692307692\n",
            "\n",
            "freesolv (1 tasks)\n",
            "{'dataset': 'freesolv', 'splitter': 'random', 'task': 'regression', 'k': 10, 'augment': 0, 'preprocess': True, 'sub_sample': 0.0, 'is_imbalanced': True, 'n': 4}\n",
            "Valid RMSE: 0.32739502134271986, Valid MAE: 0.203125 , Test RMSE: 0.3812933455813455, Test MAE: 0.2476923076923077\n",
            "\n",
            "delaney (1 tasks)\n",
            "{'dataset': 'delaney', 'splitter': 'random', 'task': 'regression', 'k': 10, 'augment': 0, 'preprocess': True, 'sub_sample': 0.0, 'is_imbalanced': True, 'n': 4}\n",
            "Valid RMSE: 1.451364935841827, Valid MAE: 1.0663716814159292 , Test RMSE: 1.1129566776706457, Test MAE: 0.8769911504424778\n",
            "\n",
            "delaney (1 tasks)\n",
            "{'dataset': 'delaney', 'splitter': 'random', 'task': 'regression', 'k': 10, 'augment': 0, 'preprocess': True, 'sub_sample': 0.0, 'is_imbalanced': True, 'n': 4}\n",
            "Valid RMSE: 1.1083352740240733, Valid MAE: 0.9053097345132745 , Test RMSE: 1.3661197553072382, Test MAE: 1.0150442477876107\n",
            "\n",
            "delaney (1 tasks)\n",
            "{'dataset': 'delaney', 'splitter': 'random', 'task': 'regression', 'k': 10, 'augment': 0, 'preprocess': True, 'sub_sample': 0.0, 'is_imbalanced': True, 'n': 4}\n",
            "Valid RMSE: 1.383275578991268, Valid MAE: 1.0743362831858407 , Test RMSE: 1.1329341653462701, Test MAE: 0.8442477876106194\n",
            "\n",
            "delaney (1 tasks)\n",
            "{'dataset': 'delaney', 'splitter': 'random', 'task': 'regression', 'k': 10, 'augment': 0, 'preprocess': True, 'sub_sample': 0.0, 'is_imbalanced': True, 'n': 4}\n",
            "Valid RMSE: 0.967662999920907, Valid MAE: 0.7938053097345134 , Test RMSE: 1.346414445260849, Test MAE: 1.036283185840708\n",
            "Traceback (most recent call last):\n",
            "  File \"/usr/lib/python3.10/urllib/request.py\", line 270, in urlretrieve\n",
            "    block = fp.read(bs)\n",
            "  File \"/usr/lib/python3.10/http/client.py\", line 466, in read\n",
            "    s = self.fp.read(amt)\n",
            "  File \"/usr/lib/python3.10/socket.py\", line 705, in readinto\n",
            "    return self._sock.recv_into(b)\n",
            "  File \"/usr/lib/python3.10/ssl.py\", line 1274, in recv_into\n",
            "    return self.read(nbytes, buffer)\n",
            "  File \"/usr/lib/python3.10/ssl.py\", line 1130, in read\n",
            "    return self._sslobj.read(len, buffer)\n",
            "KeyboardInterrupt\n",
            "\n",
            "During handling of the above exception, another exception occurred:\n",
            "\n",
            "Traceback (most recent call last):\n",
            "  File \"/content/molzip/main.py\", line 355, in <module>\n",
            "    main()\n",
            "  File \"/content/molzip/main.py\", line 260, in main\n",
            "    benchmark(\n",
            "  File \"/content/molzip/main.py\", line 162, in benchmark\n",
            "    tasks, X_train, y_train, X_valid, y_valid, X_test, y_test = molnet_loader(\n",
            "  File \"/content/molzip/main.py\", line 137, in molnet_loader\n",
            "    dc_set = mn_loader(**kwargs)\n",
            "  File \"/usr/local/lib/python3.10/dist-packages/deepchem/molnet/load_function/lipo_datasets.py\", line 80, in load_lipo\n",
            "    return loader.load_dataset('lipo', reload)\n",
            "  File \"/usr/local/lib/python3.10/dist-packages/deepchem/molnet/load_function/molnet_loader.py\", line 179, in load_dataset\n",
            "    dataset = self.create_dataset()\n",
            "  File \"/usr/local/lib/python3.10/dist-packages/deepchem/molnet/load_function/lipo_datasets.py\", line 19, in create_dataset\n",
            "    dc.utils.data_utils.download_url(url=LIPO_URL,\n",
            "  File \"/usr/local/lib/python3.10/dist-packages/deepchem/utils/data_utils.py\", line 102, in download_url\n",
            "    urlretrieve(url, os.path.join(dest_dir, name))\n",
            "  File \"/usr/lib/python3.10/urllib/request.py\", line 241, in urlretrieve\n",
            "    with contextlib.closing(urlopen(url, data)) as fp:\n",
            "  File \"/usr/lib/python3.10/contextlib.py\", line 339, in __exit__\n",
            "    def __exit__(self, *exc_info):\n",
            "KeyboardInterrupt\n",
            "^C\n"
          ]
        }
      ]
    },
    {
      "cell_type": "code",
      "source": [],
      "metadata": {
        "id": "VS4FMrYRihE8"
      },
      "execution_count": null,
      "outputs": []
    }
  ]
}